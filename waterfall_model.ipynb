{
  "nbformat": 4,
  "nbformat_minor": 0,
  "metadata": {
    "colab": {
      "provenance": [],
      "authorship_tag": "ABX9TyMsnRiIBDfbkOAvZ6SjzW3C",
      "include_colab_link": true
    },
    "kernelspec": {
      "name": "python3",
      "display_name": "Python 3"
    },
    "language_info": {
      "name": "python"
    }
  },
  "cells": [
    {
      "cell_type": "markdown",
      "metadata": {
        "id": "view-in-github",
        "colab_type": "text"
      },
      "source": [
        "<a href=\"https://colab.research.google.com/github/Bhavana-pro/waterfall-model1/blob/main/waterfall_model.ipynb\" target=\"_parent\"><img src=\"https://colab.research.google.com/assets/colab-badge.svg\" alt=\"Open In Colab\"/></a>"
      ]
    },
    {
      "cell_type": "markdown",
      "source": [
        "1.\tImplement waterfall modeling* using the quadratic solution in stages: hard-coding variables keyboard input, read from a file, for a single set of input, multiple sets of inputs.\n",
        "\n",
        "a. save all versions, debug, fix problems, create a Github account\n",
        "\n",
        "Implementation outline for weather modeling using a quadratic solution. The approach evolves in stages:\n",
        "1.\tHardcoding variables.\n",
        "2.\tAccepting variables via keyboard input.\n",
        "3.\tReading variables from a file.\n",
        "4.\tProcessing a single set of inputs.\n",
        "5.\tProcessing multiple sets of inputs.\n",
        "At the end, you will save the versions, debug, fix issues, and push the project to GitHub."
      ],
      "metadata": {
        "id": "BSm9DzYD7-bh"
      }
    },
    {
      "cell_type": "code",
      "source": [
        "import sys\n",
        "\n",
        "def solve_quadratic(a, b, c):\n",
        "    \"\"\"Solve the quadratic equation ax^2 + bx + c = 0.\"\"\"\n",
        "    if a == 0:\n",
        "        return \"Not a quadratic equation (a cannot be 0).\"\n",
        "\n",
        "    discriminant = b**2 - 4*a*c\n",
        "\n",
        "    if discriminant > 0:\n",
        "        root1 = (-b + discriminant**0.5) / (2 * a)\n",
        "        root2 = (-b - discriminant**0.5) / (2 * a)\n",
        "        return f\"Roots: {root1}, {root2}\"\n",
        "    elif discriminant == 0:\n",
        "        root = -b / (2 * a)\n",
        "        return f\"Root: {root}\"\n",
        "    else:\n",
        "        return \"No real roots\"\n",
        "\n",
        "\n",
        "def hardcoded_input():\n",
        "    \"\"\"Stage 1: Hardcoded variables.\"\"\"\n",
        "    print(\"\\nStage 1: Hardcoded Variables\")\n",
        "    a, b, c = 1, -3, 2  # Example values\n",
        "    print(solve_quadratic(a, b, c))\n",
        "\n",
        "\n",
        "def keyboard_input():\n",
        "    \"\"\"Stage 2: Keyboard input.\"\"\"\n",
        "    print(\"\\nStage 2: Keyboard Input\")\n",
        "    try:\n",
        "        a = float(input(\"Enter coefficient a: \"))\n",
        "        b = float(input(\"Enter coefficient b: \"))\n",
        "        c = float(input(\"Enter coefficient c: \"))\n",
        "        print(solve_quadratic(a, b, c))\n",
        "    except ValueError:\n",
        "        print(\"Invalid input! Please enter numeric values.\")\n",
        "\n",
        "\n",
        "def file_read_verify():\n",
        "    \"\"\"Stage 3: Verify file existence and readability.\"\"\"\n",
        "    print(\"\\nStage 3: File Read Verification\")\n",
        "    try:\n",
        "        with open(\"input.txt\", \"r\") as file:\n",
        "            lines = file.readlines()\n",
        "            if lines:\n",
        "                print(f\"File read successfully. Number of lines: {len(lines)}\\n\")\n",
        "                print(\"File Contents:\")\n",
        "                for line in lines:\n",
        "                    print(line.strip())  # Display each line\n",
        "            else:\n",
        "                print(\"File is empty!\")\n",
        "    except Exception as e:\n",
        "        print(f\"Error reading file: {e}\")\n",
        "\n",
        "\n",
        "def file_input_single():\n",
        "    \"\"\"Stage 4: Process a single set of inputs from file.\"\"\"\n",
        "    print(\"\\nStage 4: Processing a Single Set of Inputs\")\n",
        "    try:\n",
        "        with open(\"input.txt\", \"r\") as file:\n",
        "            first_line = file.readline().strip()\n",
        "            if first_line:\n",
        "                a, b, c = map(float, first_line.split())\n",
        "                print(solve_quadratic(a, b, c))\n",
        "            else:\n",
        "                print(\"File is empty!\")\n",
        "    except Exception as e:\n",
        "        print(f\"Error: {e}\")\n",
        "\n",
        "\n",
        "def file_input_multiple():\n",
        "    \"\"\"Stage 5: Process multiple sets of inputs from file.\"\"\"\n",
        "    print(\"\\nStage 5: Processing Multiple Sets of Inputs\")\n",
        "    try:\n",
        "        with open(\"input.txt\", \"r\") as file:\n",
        "            for line in file:\n",
        "                try:\n",
        "                    a, b, c = map(float, line.split())\n",
        "                    print(solve_quadratic(a, b, c))\n",
        "                except ValueError:\n",
        "                    print(f\"Skipping invalid line: {line.strip()}\")\n",
        "    except Exception as e:\n",
        "        print(f\"Error: {e}\")\n",
        "\n",
        "\n",
        "def main():\n",
        "    \"\"\"Main function to execute all stages sequentially.\"\"\"\n",
        "    hardcoded_input()\n",
        "    keyboard_input()\n",
        "    file_read_verify()\n",
        "    file_input_single()\n",
        "    file_input_multiple()\n",
        "\n",
        "\n",
        "if __name__ == \"__main__\":\n",
        "    main()\n"
      ],
      "metadata": {
        "colab": {
          "base_uri": "https://localhost:8080/"
        },
        "id": "VGa-HAbO7_bd",
        "outputId": "a2986393-8f69-45b8-bb58-5cba5e1caf48"
      },
      "execution_count": 2,
      "outputs": [
        {
          "output_type": "stream",
          "name": "stdout",
          "text": [
            "\n",
            "Stage 1: Hardcoded Variables\n",
            "Roots: 2.0, 1.0\n",
            "\n",
            "Stage 2: Keyboard Input\n",
            "Enter coefficient a: 2\n",
            "Enter coefficient b: -1\n",
            "Enter coefficient c: 2\n",
            "No real roots\n",
            "\n",
            "Stage 3: File Read Verification\n",
            "File read successfully. Number of lines: 4\n",
            "\n",
            "File Contents:\n",
            "1 -3 2\n",
            "1 -2 1\n",
            "1 4 5\n",
            "2 5 -3\n",
            "\n",
            "Stage 4: Processing a Single Set of Inputs\n",
            "Roots: 2.0, 1.0\n",
            "\n",
            "Stage 5: Processing Multiple Sets of Inputs\n",
            "Roots: 2.0, 1.0\n",
            "Root: 1.0\n",
            "No real roots\n",
            "Roots: 0.5, -3.0\n"
          ]
        }
      ]
    }
  ]
}